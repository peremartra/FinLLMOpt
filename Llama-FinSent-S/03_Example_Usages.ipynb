{
  "nbformat": 4,
  "nbformat_minor": 0,
  "metadata": {
    "colab": {
      "provenance": [],
      "gpuType": "T4",
      "authorship_tag": "ABX9TyNjW5c+UgcXBHW/uHygUmQ5",
      "include_colab_link": true
    },
    "kernelspec": {
      "name": "python3",
      "display_name": "Python 3"
    },
    "language_info": {
      "name": "python"
    },
    "accelerator": "GPU"
  },
  "cells": [
    {
      "cell_type": "markdown",
      "metadata": {
        "id": "view-in-github",
        "colab_type": "text"
      },
      "source": [
        "<a href=\"https://colab.research.google.com/github/peremartra/FinLLMOpt/blob/main/Llama-FinSent-S/03_Example_Usages.ipynb\" target=\"_parent\"><img src=\"https://colab.research.google.com/assets/colab-badge.svg\" alt=\"Open In Colab\"/></a>"
      ]
    },
    {
      "cell_type": "markdown",
      "source": [
        "# LLama-FinSent-S\n",
        "## Example usage."
      ],
      "metadata": {
        "id": "2aYtmrH0mzke"
      }
    },
    {
      "cell_type": "code",
      "execution_count": 1,
      "metadata": {
        "id": "7dIoIrkpAm9C"
      },
      "outputs": [],
      "source": [
        "!pip install -q transformers==4.47.1\n",
        "from transformers import AutoTokenizer, AutoModelForCausalLM\n",
        "import torch"
      ]
    },
    {
      "cell_type": "code",
      "source": [
        "#Load Model from Hugging Face.\n",
        "model_name = \"oopere/Llama-FinSent-S\"\n",
        "\n",
        "tokenizer = AutoTokenizer.from_pretrained(model_name)\n",
        "tokenizer.pad_token = tokenizer.eos_token  # Set pad token\n",
        "\n",
        "model = AutoModelForCausalLM.from_pretrained(model_name, torch_dtype=torch.float16)\n",
        "device = \"cuda\" if torch.cuda.is_available() else \"cpu\"\n",
        "model.to(device)"
      ],
      "metadata": {
        "colab": {
          "base_uri": "https://localhost:8080/"
        },
        "id": "fKLWJTAKBopE",
        "outputId": "ec0581e1-2979-4b18-9e54-616d73af32a3"
      },
      "execution_count": 2,
      "outputs": [
        {
          "output_type": "execute_result",
          "data": {
            "text/plain": [
              "LlamaForCausalLM(\n",
              "  (model): LlamaModel(\n",
              "    (embed_tokens): Embedding(128256, 2048)\n",
              "    (layers): ModuleList(\n",
              "      (0-15): 16 x LlamaDecoderLayer(\n",
              "        (self_attn): LlamaSdpaAttention(\n",
              "          (q_proj): Linear(in_features=2048, out_features=2048, bias=False)\n",
              "          (k_proj): Linear(in_features=2048, out_features=512, bias=False)\n",
              "          (v_proj): Linear(in_features=2048, out_features=512, bias=False)\n",
              "          (o_proj): Linear(in_features=2048, out_features=2048, bias=False)\n",
              "          (rotary_emb): LlamaRotaryEmbedding()\n",
              "        )\n",
              "        (mlp): LlamaMLP(\n",
              "          (gate_proj): Linear(in_features=2048, out_features=4916, bias=False)\n",
              "          (up_proj): Linear(in_features=2048, out_features=4916, bias=False)\n",
              "          (down_proj): Linear(in_features=4916, out_features=2048, bias=False)\n",
              "          (act_fn): SiLU()\n",
              "        )\n",
              "        (input_layernorm): LlamaRMSNorm((2048,), eps=1e-05)\n",
              "        (post_attention_layernorm): LlamaRMSNorm((2048,), eps=1e-05)\n",
              "      )\n",
              "    )\n",
              "    (norm): LlamaRMSNorm((2048,), eps=1e-05)\n",
              "    (rotary_emb): LlamaRotaryEmbedding()\n",
              "  )\n",
              "  (lm_head): Linear(in_features=2048, out_features=128256, bias=False)\n",
              ")"
            ]
          },
          "metadata": {},
          "execution_count": 2
        }
      ]
    },
    {
      "cell_type": "code",
      "source": [
        "newline_token_id = tokenizer.encode(\"\\n\", add_special_tokens=False)[0]\n",
        "def generate_response(prompt, model):\n",
        "    # Format prompt using chat template\n",
        "    #eot_id = tokenizer.convert_tokens_to_ids([\"<|eot_id|>\"])[0]\n",
        "\n",
        "    full_prompt=\"\"\"Instruction: What is the sentiment of this news?\n",
        "    Please choose an answer from {negative/neutral/positive}.\"\"\" + \"\\n\" + \"News: \" + prompt + \"\\n\" + \"Answer:\"\n",
        "    print(full_prompt)\n",
        "\n",
        "    inputs = tokenizer(full_prompt, return_tensors=\"pt\").to(device)\n",
        "\n",
        "    # Generate with strict stopping criteria\n",
        "    outputs = model.generate(\n",
        "        **inputs,\n",
        "        max_new_tokens=15,\n",
        "        eos_token_id=newline_token_id,\n",
        "        pad_token_id=tokenizer.eos_token_id,\n",
        "        do_sample=False,\n",
        "        num_beams=1,\n",
        "        temperature=0.001,  # More deterministic\n",
        "        no_repeat_ngram_size=3,\n",
        "        early_stopping=True,\n",
        "    )\n",
        "\n",
        "    # Decode and extract answer\n",
        "    full_response = tokenizer.decode(outputs[0], skip_special_tokens=False)\n",
        "\n",
        "    return full_response.split(\"Answer:\")[-1].split(\"\\n\")[0].strip(), full_response"
      ],
      "metadata": {
        "id": "f83bUlEMBxC3"
      },
      "execution_count": 66,
      "outputs": []
    },
    {
      "cell_type": "code",
      "source": [
        "# Example usage\n",
        "test_news = \"Ahlstrom Corporation STOCK EXCHANGE ANNOUNCEMENT 7.2.2007 at 10.30 A total of 56,955 new shares of A...\"\n",
        "response, full = generate_response(test_news, model)\n",
        "print(response)"
      ],
      "metadata": {
        "colab": {
          "base_uri": "https://localhost:8080/"
        },
        "id": "SapMGb-hCoT1",
        "outputId": "894ba58d-105f-4485-9a9d-bba5c905a508"
      },
      "execution_count": 67,
      "outputs": [
        {
          "output_type": "stream",
          "name": "stdout",
          "text": [
            "Instruction: What is the sentiment of this news? \n",
            "    Please choose an answer from {negative/neutral/positive}.\n",
            "News: Ahlstrom Corporation STOCK EXCHANGE ANNOUNCEMENT 7.2.2007 at 10.30 A total of 56,955 new shares of A...\n",
            "Answer:\n",
            "neutral\n"
          ]
        }
      ]
    },
    {
      "cell_type": "code",
      "source": [
        "test_news = \"$ESI on lows, down $1.50 to $2.50 BK a real's possibility\"\n",
        "response, full = generate_response(test_news, model)\n",
        "print(response)"
      ],
      "metadata": {
        "colab": {
          "base_uri": "https://localhost:8080/"
        },
        "id": "qOOQIR9rCqzp",
        "outputId": "cc484002-b10f-4ca2-bde9-9e3a20e27084"
      },
      "execution_count": 68,
      "outputs": [
        {
          "output_type": "stream",
          "name": "stdout",
          "text": [
            "Instruction: What is the sentiment of this news? \n",
            "    Please choose an answer from {negative/neutral/positive}.\n",
            "News: $ESI on lows, down $1.50 to $2.50 BK a real's possibility\n",
            "Answer:\n",
            "negative\n"
          ]
        }
      ]
    },
    {
      "cell_type": "code",
      "source": [
        "test_news =\"\"\"\n",
        "The world 's second largest stainless steel maker said net profit in the three-month period until Dec.\n",
        "31 surged to euro603 million US$ 781 million , or euro3 .33 US$ 4.31 per share ,\n",
        "from euro172 million , or euro0 .94 per share , the previous year .\n",
        "\"\"\"\n",
        "response, full = generate_response(test_news, model)\n",
        "print(response)"
      ],
      "metadata": {
        "colab": {
          "base_uri": "https://localhost:8080/"
        },
        "id": "07XvSyD-DpIe",
        "outputId": "f7d7fe85-0c9a-47e5-e310-96308b41fe1d"
      },
      "execution_count": 69,
      "outputs": [
        {
          "output_type": "stream",
          "name": "stdout",
          "text": [
            "Instruction: What is the sentiment of this news? \n",
            "    Please choose an answer from {negative/neutral/positive}.\n",
            "News: \n",
            "The world 's second largest stainless steel maker said net profit in the three-month period until Dec. \n",
            "31 surged to euro603 million US$ 781 million , or euro3 .33 US$ 4.31 per share , \n",
            "from euro172 million , or euro0 .94 per share , the previous year . \n",
            "\n",
            "Answer:\n",
            "positive\n"
          ]
        }
      ]
    },
    {
      "cell_type": "code",
      "source": [],
      "metadata": {
        "id": "emk3EWbbtgKM"
      },
      "execution_count": null,
      "outputs": []
    }
  ]
}